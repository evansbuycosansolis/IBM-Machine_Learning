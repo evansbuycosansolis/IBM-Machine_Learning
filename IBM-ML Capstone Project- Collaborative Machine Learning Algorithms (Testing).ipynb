{
 "cells": [
  {
   "cell_type": "markdown",
   "metadata": {},
   "source": [
    "Testing relative performance of multiple machine learning models \"working together\" versus a solo machine learning model. \n",
    "\n",
    "Experiment to see how multiple neural network models might \"collaborate\" versus a solo neural network tasked with the same classification challenge. The task for both nets was to classify unseen sections of RBA text.  \n",
    "\n",
    "Labels relate to forward actions by the RBA. Class labels were balanced for each run. Rebalancing the classes resulted in some reduction of variance within the classes of interest. \n",
    "\n",
    "Results are down the bottom of the notebook. \n",
    "\n",
    "Three distinct but related sets of text data were passed to three separate neural nets at the same time. Each had distinct and separate text classification tasks but at the same time the two auxiliary models would be allowed to share updates as they trained with the main model. \n",
    "\n",
    "The three data sets are as follows:  \n",
    "\n",
    "1. Text from RBA \"deemed\" neutral.\n",
    "2. Text from RBA \"deemed\" dovish.\n",
    "3. Text from RBA \"deemed\" hawkish.\n",
    "                  \n",
    "Machine learning models were set to analyse paragraphs or chunks of text in blocks of around 100 words at a time. LSTM layers were used to remember sequences of 100 words at a time and find any pattern or signal. LSTM's are set to be stateless for this experiment, with predict matrix set at (n_training samples, 100 timesteps,one dimension), and batch size for training, evaluation and prediction set at one.ie cleaning the long term memory of the machines after each 100 words.\n",
    "\n",
    "#### Results.\n",
    "The collaborating models generally did better than the solo model. F scores(harmonic mean of precision & recall)  of the models were 1.0 and 0.977 respectively. \n",
    "\n",
    "#### References\n",
    "Original paper on LSTM's. They are a model of choice personally for NLP tasks.\n",
    "1. Hochreiter,S ,Schmidhuber J (1997). \"Long short-term memory\". Neural Computation. 9 (8): 1735–1780. \n",
    "\n",
    "#### Oct/2018"
   ]
  },
  {
   "cell_type": "code",
   "execution_count": 1,
   "metadata": {},
   "outputs": [
    {
     "name": "stderr",
     "output_type": "stream",
     "text": [
      "Using TensorFlow backend.\n"
     ]
    }
   ],
   "source": [
    "import os\n",
    "import shutil\n",
    "import time, glob\n",
    "\n",
    "#Tensorflow\n",
    "import tensorflow as tf \n",
    "\n",
    "#Pandas\n",
    "import pandas as pd\n",
    "from pandas import read_csv\n",
    "\n",
    "#Numpy\n",
    "import numpy as np\n",
    "from numpy import array\n",
    "from array import array\n",
    "from numpy import argmax\n",
    "from numpy import zeros\n",
    "\n",
    "#Randoms\n",
    "import os\n",
    "from tqdm import tqdm \n",
    "from itertools import cycle\n",
    "import logging\n",
    "logging.basicConfig(format='%(asctime)s : %(levelname)s : %(message)s', level=logging.INFO)\n",
    "import string\n",
    "\n",
    "#Matplotlib  \n",
    "%matplotlib inline\n",
    "import matplotlib.pyplot as plt\n",
    "\n",
    "\n",
    "#SK Learn\n",
    "import sklearn\n",
    "from sklearn.model_selection import train_test_split\n",
    "from sklearn import metrics\n",
    "from sklearn import preprocessing\n",
    "from sklearn.externals import joblib\n",
    "from sklearn.metrics import classification_report\n",
    "from sklearn.metrics import confusion_matrix\n",
    "from sklearn.metrics import f1_score\n",
    "from sklearn.utils import resample\n",
    " \n",
    "   \n",
    "#Keras\n",
    "import keras\n",
    "from keras.engine import Input\n",
    "from keras.models import Model\n",
    "from keras.layers.merge import dot\n",
    "from keras.utils import plot_model\n",
    "from keras import backend as K\n",
    "from keras import callbacks\n",
    "from keras import layers\n",
    "from keras import models\n",
    "from keras.wrappers.scikit_learn import KerasClassifier\n",
    "from keras.callbacks import ModelCheckpoint\n",
    "from keras.callbacks import ReduceLROnPlateau\n",
    "from keras.models import Sequential\n",
    "from keras.layers import Dense\n",
    "from keras.wrappers.scikit_learn import KerasClassifier\n",
    "from keras.preprocessing.text import Tokenizer\n",
    "from keras.preprocessing.sequence import pad_sequences\n",
    "from keras.utils.np_utils import to_categorical\n",
    "from keras.layers import Input, Dense, Flatten\n",
    "from keras.layers import Conv1D, MaxPooling1D\n",
    "from keras.layers import TimeDistributed\n",
    "from keras.layers.wrappers import TimeDistributed, Bidirectional\n",
    "from keras.layers.embeddings import Embedding\n",
    "from keras.layers.recurrent import LSTM, GRU\n",
    "from keras.layers.core import Dense, Masking\n",
    "from keras import regularizers\n",
    "from keras.layers import Flatten\n",
    "from keras.layers import Embedding\n",
    "from keras.layers import Dropout, Input\n",
    "from keras.layers.noise import GaussianNoise\n",
    "from keras.layers import LSTM\n",
    "from keras import optimizers\n",
    "from keras import regularizers\n",
    "from keras.layers import Merge\n",
    "from keras.layers.convolutional import Convolution2D, MaxPooling2D, ZeroPadding2D\n",
    "from keras.layers.core import Dense, Activation, Dropout, Reshape, Flatten\n",
    "from keras.utils.np_utils import to_categorical\n",
    "    \n",
    "#Print Confusion matrix and F1 score\n",
    "def print_metrics(self,y):\n",
    "    pred_round_1 = np.round(self, decimals=0,out=None)\n",
    "    f1 = f1_score(y, pred_round_1,average='binary')\n",
    "    con_1= confusion_matrix(y, pred_round_1)\n",
    "    print(con_1)\n",
    "    print(f1)\n",
    "    \n",
    "    \n",
    "#Plot convergence path for collaborative model   \n",
    "def plot_model(self): \n",
    "    plt.plot(self.history['main_output_acc'])\n",
    "    plt.plot(self.history['val_main_output_acc'])\n",
    "    plt.title('model accuracy')\n",
    "    plt.ylabel('accuracy')\n",
    "    plt.xlabel('epoch')\n",
    "    plt.legend(['train', 'val'], loc='upper left')\n",
    "    plt.show()     \n",
    "    plt.plot(self.history['main_output_loss'])\n",
    "    plt.plot(self.history['val_main_output_loss'])\n",
    "    plt.title('model loss')\n",
    "    plt.ylabel('loss')\n",
    "    plt.xlabel('epoch')\n",
    "    plt.legend(['train', 'val'], loc='upper left')\n",
    "    plt.show() \n",
    "    \n",
    "#Plot convergence path for solo model  \n",
    "def plot_model_solo(self): \n",
    "    plt.plot(self.history['acc'])\n",
    "    plt.plot(self.history['val_acc'])\n",
    "    plt.title('model accuracy')\n",
    "    plt.ylabel('accuracy')\n",
    "    plt.xlabel('epoch')\n",
    "    plt.legend(['train', 'val'], loc='upper left')\n",
    "    plt.show()     \n",
    "    plt.plot(self.history['loss'])\n",
    "    plt.plot(self.history['val_loss'])\n",
    "    plt.title('model loss')\n",
    "    plt.ylabel('loss')\n",
    "    plt.xlabel('epoch')\n",
    "    plt.legend(['train', 'val'], loc='upper left')\n",
    "    plt.show() "
   ]
  },
  {
   "cell_type": "markdown",
   "metadata": {},
   "source": [
    "### Read in text files for various predictor matrices.  Three bodies of text split into \"Neutral\", \"Dovish\" and \"Hawkish\". "
   ]
  },
  {
   "cell_type": "code",
   "execution_count": 2,
   "metadata": {},
   "outputs": [
    {
     "name": "stdout",
     "output_type": "stream",
     "text": [
      "((3984, 1), (923, 1), (529, 1))\n"
     ]
    }
   ],
   "source": [
    "#Read in all files from folder relating to \"RBA neutral\"  text\n",
    "with open(\"...RBA do nothing/outfile\", 'wb',) as outfile:\n",
    "    for filename in glob.glob( '...RBA do nothing/tabula*.csv'):\n",
    "        if filename == outfile:             \n",
    "            continue\n",
    "        with open(filename, 'rb') as readfile:\n",
    "            shutil.copyfileobj(readfile, outfile)\n",
    "#Save \"RBA neutral\" text\n",
    "x = pd.read_fwf('...RBA do nothing/outfile',\n",
    "                sep=\".\",encoding='utf8',usecols=[0], header=None)\n",
    "x.rename(columns={0:'text'},inplace=True)\n",
    "\n",
    "\n",
    "             \n",
    "#Open and read in all files relating to \"RBA dovish\" text\n",
    "with open(\"...RBA ease/rba_ease.csv\", 'wb',) as outfile:\n",
    "    for filename in glob.glob('...RBA ease/tabula*.csv',):\n",
    "        if filename == outfile:            \n",
    "            continue\n",
    "        with open(filename, 'rb') as readfile:\n",
    "            shutil.copyfileobj(readfile, outfile) \n",
    "#Save \"RBA dovish\" text\n",
    "x1 = pd.read_fwf('...RBA ease/rba_ease.csv',sep=\".\",encoding='utf8',\n",
    "                 usecols=[0], header=None)\n",
    "x1.rename(columns={0:'text'},inplace=True) \n",
    "\n",
    "\n",
    "#Read in all files relating to \"RBA hawkish\" text \n",
    "with open(\"...RBA hike/rba_hike.csv\", 'wb',) as outfile:\n",
    "    for filename in glob.glob('...RBA hike/tabula*.csv',):\n",
    "        if filename == outfile:             \n",
    "            continue\n",
    "        with open(filename, 'rb') as readfile:\n",
    "            shutil.copyfileobj(readfile, outfile) \n",
    "#Save \"RBA hawkish\" text\n",
    "x2 = pd.read_fwf('...RBA hike/rba_hike.csv',sep=\".\",\n",
    "                encoding='utf8',usecols=[0], header=None)\n",
    "x2.rename(columns={0:'text'},inplace=True)\n",
    " \n",
    " \n",
    "\n",
    "print(x.shape,x1.shape,x2.shape)"
   ]
  },
  {
   "cell_type": "markdown",
   "metadata": {},
   "source": [
    "### Define binary class labels for each neural net."
   ]
  },
  {
   "cell_type": "code",
   "execution_count": 3,
   "metadata": {},
   "outputs": [
    {
     "name": "stdout",
     "output_type": "stream",
     "text": [
      "((5436, 1), (400,), (400,))\n"
     ]
    }
   ],
   "source": [
    "#Define DF for text enocoding below. \n",
    "result= pd.concat([x,x1,x2])\n",
    "#Set target class label array for each Neural Net\n",
    "labels_zeros = np.zeros(400,)\n",
    "labels_ones = np.ones(400,)\n",
    "\n",
    "print(result.shape, labels_zeros.shape,labels_ones.shape)"
   ]
  },
  {
   "cell_type": "markdown",
   "metadata": {},
   "source": [
    "### Tokenize, encode and pad. No NLP preprocessing performed(eg, no punctuation or stopwords removed, no Stemming or Lemmatizing)."
   ]
  },
  {
   "cell_type": "code",
   "execution_count": 4,
   "metadata": {},
   "outputs": [
    {
     "name": "stdout",
     "output_type": "stream",
     "text": [
      "(2298, (3984, 10), (923, 10), (529, 10))\n"
     ]
    }
   ],
   "source": [
    "#Using one Tokinizer to fit on entire text from three files to allow for widest vocabulary index.\n",
    "\n",
    "#Encode blocks of 10 tokens at a time.\n",
    "max_length = 10\n",
    "\n",
    "t_1 = Tokenizer()\n",
    "docs_1= result['text']\n",
    "#Neutral\n",
    "docs_2 = x['text']\n",
    "#Dovish\n",
    "docs_3 = x1['text']\n",
    "#Hawkish\n",
    "docs_4 = x2['text']\n",
    " \n",
    "\n",
    "\n",
    "#Used the following Tokenizer to help encode all three predictor arrays for each Neural Network.\n",
    "#Each word and punctuation is assigned a unique integer. From there each word is effectively\n",
    "#assigned a 200 dimension word embedding vector. Each dimension represents a conversational context.\n",
    "#Number of contexts is decided upfront depending on the size and complexity of the target corpus. \n",
    "\n",
    "t_1.fit_on_texts(docs_1)\n",
    "vocab_size_1 = len(t_1.word_index) + 1\n",
    "\n",
    "#Neutral\n",
    "encoded_docs_1 = t_1.texts_to_sequences(docs_2)\n",
    "#Dovish\n",
    "encoded_docs_2 = t_1.texts_to_sequences(docs_3)\n",
    "#Hawkish\n",
    "encoded_docs_3 = t_1.texts_to_sequences(docs_4)\n",
    " \n",
    "\n",
    "\n",
    "#Neutral\n",
    "padded_docs_1 = pad_sequences(encoded_docs_1, maxlen=max_length, padding='post')\n",
    "#Dovish\n",
    "padded_docs_2 = pad_sequences(encoded_docs_2, maxlen=max_length, padding='post')\n",
    "#Hawkish\n",
    "padded_docs_3 = pad_sequences(encoded_docs_3, maxlen=max_length, padding='post')\n",
    " \n",
    "\n",
    "print(vocab_size_1,padded_docs_1.shape,padded_docs_2.shape,padded_docs_3.shape) "
   ]
  },
  {
   "cell_type": "code",
   "execution_count": 5,
   "metadata": {},
   "outputs": [
    {
     "name": "stdout",
     "output_type": "stream",
     "text": [
      "((4000, 10), (1000, 10), (600, 10))\n"
     ]
    }
   ],
   "source": [
    "#Subjectively decided to round up using top of text files as the top and bottom of corpus\n",
    "#tends to have important content.\n",
    " \n",
    "#Rounding up before reshaping\n",
    "#RBA neutral text enlarged\n",
    "padded_docs_4= padded_docs_1[0:16]\n",
    "padded_docs_5 = np.concatenate((padded_docs_1,padded_docs_4),axis=0)\n",
    " \n",
    "\n",
    "#Rounding up before reshaping\n",
    "#RBA dovish text enlarged\n",
    "padded_docs_6= padded_docs_2[0:77]\n",
    "padded_docs_7 = np.concatenate((padded_docs_2,padded_docs_6),axis=0)\n",
    " \n",
    "\n",
    "#Rounding up before reshaping\n",
    "#RBA hawkish text enlarged\n",
    "padded_docs_8= padded_docs_3[0:71]\n",
    "padded_docs_9 = np.concatenate((padded_docs_3,padded_docs_8),axis=0)\n",
    "print(padded_docs_5.shape,padded_docs_7.shape,padded_docs_9.shape)"
   ]
  },
  {
   "cell_type": "code",
   "execution_count": 6,
   "metadata": {},
   "outputs": [
    {
     "name": "stdout",
     "output_type": "stream",
     "text": [
      "((400, 100), (100, 100), (60, 100))\n"
     ]
    }
   ],
   "source": [
    "#Reshape encoded docs for lstm layer to remember sequence of 100 word blocks at a\n",
    "#time versus each class label.\n",
    "\n",
    "#RBA neutral text\n",
    "padded_docs_5= padded_docs_5.reshape(400,100)\n",
    "#RBA dovish text\n",
    "padded_docs_7= padded_docs_7.reshape(100,100)\n",
    "#RBA hawkish text\n",
    "padded_docs_9= padded_docs_9.reshape(60,100)\n",
    " \n",
    "\n",
    "print(padded_docs_5.shape,padded_docs_7.shape,padded_docs_9.shape)"
   ]
  },
  {
   "cell_type": "code",
   "execution_count": 7,
   "metadata": {},
   "outputs": [
    {
     "name": "stdout",
     "output_type": "stream",
     "text": [
      "((400, 100), (400, 100))\n"
     ]
    }
   ],
   "source": [
    "#Upsample with replacement to rebalance other classes to size of the largest class.\n",
    "\n",
    "#Upsample dovish text\n",
    "padded_docs_2_up = resample(padded_docs_7, \n",
    "                                 replace=True,     # sample with replacement\n",
    "                                 n_samples=400,    # to match majority class\n",
    "                                 random_state=123) # reproducible results\n",
    " \n",
    "#Upsample hawkish text\n",
    "padded_docs_3_up = resample(padded_docs_9, \n",
    "                                 replace=True,     # sample with replacement\n",
    "                                 n_samples=400,    # to match majority class\n",
    "                                 random_state=123) # reproducible results\n",
    " \n",
    "\n",
    "print(padded_docs_2_up.shape,padded_docs_3_up.shape)"
   ]
  },
  {
   "cell_type": "code",
   "execution_count": 8,
   "metadata": {},
   "outputs": [
    {
     "name": "stdout",
     "output_type": "stream",
     "text": [
      "((800, 100), (800, 100), (800, 100))\n"
     ]
    }
   ],
   "source": [
    "#Create four predictor arrays and define labels.\n",
    "labels = np.concatenate((labels_zeros,labels_ones),axis=0)\n",
    "#Assert label array shape\n",
    "labels.shape=(800,1)\n",
    "\n",
    "#Neutral or dovish predictor array.\n",
    "ne = np.concatenate((padded_docs_5,padded_docs_2_up),axis=0)\n",
    "\n",
    "#Neutral or hawkish predictor array.\n",
    "nh = np.concatenate((padded_docs_5,padded_docs_3_up),axis=0)\n",
    "  \n",
    "#Dovish or hawkish predictor array.\n",
    "eh = np.concatenate((padded_docs_2_up,padded_docs_3_up),axis=0)\n",
    "\n",
    " \n",
    "\n",
    "print(ne.shape,nh.shape,eh.shape)"
   ]
  },
  {
   "cell_type": "code",
   "execution_count": 9,
   "metadata": {},
   "outputs": [],
   "source": [
    "#Split arrays into train/test(80/20) for each neural network. Seeded split.\n",
    "X_train_1,X_test_1,y_train_1,y_test_1 = train_test_split(nh,labels,test_size=0.20, shuffle=True,random_state=112)\n",
    "X_train_2,X_test_2,y_train_2,y_test_2 = train_test_split(eh,labels, test_size=0.20, shuffle=True,random_state=112)\n",
    "X_train_3,X_test_3,y_train_3,y_test_3 = train_test_split(ne,labels, test_size=0.20, shuffle=True,random_state=112)"
   ]
  },
  {
   "cell_type": "code",
   "execution_count": 17,
   "metadata": {
    "scrolled": true
   },
   "outputs": [
    {
     "name": "stdout",
     "output_type": "stream",
     "text": [
      "Train on 576 samples, validate on 64 samples\n",
      "Epoch 1/50\n",
      "576/576 [==============================] - 98s 171ms/step - loss: 1.9826 - main_output_loss: 0.6122 - aux_output_1_loss: 0.6405 - aux_output_2_loss: 0.7300 - main_output_acc: 0.6719 - aux_output_1_acc: 0.6389 - aux_output_2_acc: 0.5799 - val_loss: 1.0732 - val_main_output_loss: 0.2676 - val_aux_output_1_loss: 0.2639 - val_aux_output_2_loss: 0.5416 - val_main_output_acc: 0.8594 - val_aux_output_1_acc: 0.8750 - val_aux_output_2_acc: 0.7344\n",
      "Epoch 2/50\n",
      "576/576 [==============================] - 94s 164ms/step - loss: 1.0347 - main_output_loss: 0.1464 - aux_output_1_loss: 0.2093 - aux_output_2_loss: 0.6789 - main_output_acc: 0.9392 - aux_output_1_acc: 0.9236 - aux_output_2_acc: 0.6667 - val_loss: 0.7098 - val_main_output_loss: 0.0285 - val_aux_output_1_loss: 0.0289 - val_aux_output_2_loss: 0.6524 - val_main_output_acc: 0.9844 - val_aux_output_1_acc: 0.9844 - val_aux_output_2_acc: 0.6250\n",
      "Epoch 3/50\n",
      "576/576 [==============================] - 96s 166ms/step - loss: 0.6033 - main_output_loss: 0.0705 - aux_output_1_loss: 0.0958 - aux_output_2_loss: 0.4370 - main_output_acc: 0.9809 - aux_output_1_acc: 0.9809 - aux_output_2_acc: 0.8021 - val_loss: 1.1502 - val_main_output_loss: 0.0559 - val_aux_output_1_loss: 0.0685 - val_aux_output_2_loss: 1.0258 - val_main_output_acc: 0.9844 - val_aux_output_1_acc: 0.9688 - val_aux_output_2_acc: 0.5312\n",
      "Epoch 4/50\n",
      "576/576 [==============================] - 96s 166ms/step - loss: 0.3226 - main_output_loss: 0.0230 - aux_output_1_loss: 0.0512 - aux_output_2_loss: 0.2484 - main_output_acc: 0.9948 - aux_output_1_acc: 0.9861 - aux_output_2_acc: 0.9115 - val_loss: 1.0328 - val_main_output_loss: 0.0439 - val_aux_output_1_loss: 0.0890 - val_aux_output_2_loss: 0.8999 - val_main_output_acc: 0.9844 - val_aux_output_1_acc: 0.9688 - val_aux_output_2_acc: 0.6719\n",
      "Epoch 5/50\n",
      "576/576 [==============================] - 95s 165ms/step - loss: 0.2875 - main_output_loss: 0.0074 - aux_output_1_loss: 0.0489 - aux_output_2_loss: 0.2313 - main_output_acc: 0.9983 - aux_output_1_acc: 0.9878 - aux_output_2_acc: 0.9340 - val_loss: 0.7415 - val_main_output_loss: 0.0017 - val_aux_output_1_loss: 0.0013 - val_aux_output_2_loss: 0.7385 - val_main_output_acc: 1.0000 - val_aux_output_1_acc: 1.0000 - val_aux_output_2_acc: 0.7656\n",
      "Epoch 6/50\n",
      "576/576 [==============================] - 94s 163ms/step - loss: 0.1703 - main_output_loss: 0.0057 - aux_output_1_loss: 0.0311 - aux_output_2_loss: 0.1334 - main_output_acc: 0.9983 - aux_output_1_acc: 0.9948 - aux_output_2_acc: 0.9688 - val_loss: 0.8428 - val_main_output_loss: 6.7231e-05 - val_aux_output_1_loss: 6.5654e-06 - val_aux_output_2_loss: 0.8428 - val_main_output_acc: 1.0000 - val_aux_output_1_acc: 1.0000 - val_aux_output_2_acc: 0.8594\n",
      "Epoch 7/50\n",
      "576/576 [==============================] - 94s 163ms/step - loss: 0.1485 - main_output_loss: 0.0126 - aux_output_1_loss: 0.0526 - aux_output_2_loss: 0.0832 - main_output_acc: 0.9965 - aux_output_1_acc: 0.9931 - aux_output_2_acc: 0.9774 - val_loss: 0.6994 - val_main_output_loss: 1.0542e-04 - val_aux_output_1_loss: 1.0275e-04 - val_aux_output_2_loss: 0.6992 - val_main_output_acc: 1.0000 - val_aux_output_1_acc: 1.0000 - val_aux_output_2_acc: 0.9062\n",
      "Epoch 8/50\n",
      "576/576 [==============================] - 93s 162ms/step - loss: 0.1193 - main_output_loss: 0.0134 - aux_output_1_loss: 0.0354 - aux_output_2_loss: 0.0705 - main_output_acc: 0.9965 - aux_output_1_acc: 0.9965 - aux_output_2_acc: 0.9844 - val_loss: 0.7332 - val_main_output_loss: 1.1359e-05 - val_aux_output_1_loss: 1.9210e-06 - val_aux_output_2_loss: 0.7332 - val_main_output_acc: 1.0000 - val_aux_output_1_acc: 1.0000 - val_aux_output_2_acc: 0.8594\n",
      "Epoch 9/50\n",
      "576/576 [==============================] - 90s 157ms/step - loss: 0.0451 - main_output_loss: 5.1077e-07 - aux_output_1_loss: 0.0011 - aux_output_2_loss: 0.0440 - main_output_acc: 1.0000 - aux_output_1_acc: 1.0000 - aux_output_2_acc: 0.9896 - val_loss: 1.2732 - val_main_output_loss: 6.5569e-07 - val_aux_output_1_loss: 1.1863e-06 - val_aux_output_2_loss: 1.2732 - val_main_output_acc: 1.0000 - val_aux_output_1_acc: 1.0000 - val_aux_output_2_acc: 0.8594\n",
      "Epoch 10/50\n",
      "576/576 [==============================] - 90s 157ms/step - loss: 0.0534 - main_output_loss: 1.0940e-07 - aux_output_1_loss: 1.8654e-07 - aux_output_2_loss: 0.0534 - main_output_acc: 1.0000 - aux_output_1_acc: 1.0000 - aux_output_2_acc: 0.9931 - val_loss: 1.3247 - val_main_output_loss: 1.7694e-07 - val_aux_output_1_loss: 1.7797e-07 - val_aux_output_2_loss: 1.3247 - val_main_output_acc: 1.0000 - val_aux_output_1_acc: 1.0000 - val_aux_output_2_acc: 0.8594\n",
      "Epoch 11/50\n",
      "576/576 [==============================] - 91s 157ms/step - loss: 0.0243 - main_output_loss: 1.0954e-07 - aux_output_1_loss: 7.7826e-06 - aux_output_2_loss: 0.0243 - main_output_acc: 1.0000 - aux_output_1_acc: 1.0000 - aux_output_2_acc: 0.9931 - val_loss: 1.2702 - val_main_output_loss: 5.4018e-07 - val_aux_output_1_loss: 1.0990e-07 - val_aux_output_2_loss: 1.2702 - val_main_output_acc: 1.0000 - val_aux_output_1_acc: 1.0000 - val_aux_output_2_acc: 0.7969\n",
      "Epoch 12/50\n",
      "576/576 [==============================] - 91s 157ms/step - loss: 0.0286 - main_output_loss: 1.0940e-07 - aux_output_1_loss: 1.0940e-07 - aux_output_2_loss: 0.0286 - main_output_acc: 1.0000 - aux_output_1_acc: 1.0000 - aux_output_2_acc: 0.9965 - val_loss: 1.6661 - val_main_output_loss: 1.3784e-06 - val_aux_output_1_loss: 1.0990e-07 - val_aux_output_2_loss: 1.6661 - val_main_output_acc: 1.0000 - val_aux_output_1_acc: 1.0000 - val_aux_output_2_acc: 0.8750\n",
      "Epoch 13/50\n",
      "576/576 [==============================] - 91s 158ms/step - loss: 0.0319 - main_output_loss: 1.1044e-07 - aux_output_1_loss: 1.0940e-07 - aux_output_2_loss: 0.0319 - main_output_acc: 1.0000 - aux_output_1_acc: 1.0000 - aux_output_2_acc: 0.9931 - val_loss: 2.4112 - val_main_output_loss: 3.0260e-07 - val_aux_output_1_loss: 1.0990e-07 - val_aux_output_2_loss: 2.4112 - val_main_output_acc: 1.0000 - val_aux_output_1_acc: 1.0000 - val_aux_output_2_acc: 0.6875\n",
      "Epoch 14/50\n",
      "576/576 [==============================] - 91s 158ms/step - loss: 0.0101 - main_output_loss: 1.1086e-07 - aux_output_1_loss: 1.0940e-07 - aux_output_2_loss: 0.0101 - main_output_acc: 1.0000 - aux_output_1_acc: 1.0000 - aux_output_2_acc: 0.9965 - val_loss: 1.7680 - val_main_output_loss: 5.3653e-06 - val_aux_output_1_loss: 1.0990e-07 - val_aux_output_2_loss: 1.7680 - val_main_output_acc: 1.0000 - val_aux_output_1_acc: 1.0000 - val_aux_output_2_acc: 0.8594\n",
      "Epoch 15/50\n",
      "576/576 [==============================] - 96s 167ms/step - loss: 0.0496 - main_output_loss: 1.1044e-07 - aux_output_1_loss: 1.0940e-07 - aux_output_2_loss: 0.0496 - main_output_acc: 1.0000 - aux_output_1_acc: 1.0000 - aux_output_2_acc: 0.9931 - val_loss: 1.5486 - val_main_output_loss: 1.2853e-07 - val_aux_output_1_loss: 1.0990e-07 - val_aux_output_2_loss: 1.5486 - val_main_output_acc: 1.0000 - val_aux_output_1_acc: 1.0000 - val_aux_output_2_acc: 0.8281\n",
      "Epoch 16/50\n",
      "576/576 [==============================] - 98s 169ms/step - loss: 1.6267e-04 - main_output_loss: 1.0940e-07 - aux_output_1_loss: 1.0940e-07 - aux_output_2_loss: 1.6245e-04 - main_output_acc: 1.0000 - aux_output_1_acc: 1.0000 - aux_output_2_acc: 1.0000 - val_loss: 1.5275 - val_main_output_loss: 1.2667e-07 - val_aux_output_1_loss: 1.0990e-07 - val_aux_output_2_loss: 1.5275 - val_main_output_acc: 1.0000 - val_aux_output_1_acc: 1.0000 - val_aux_output_2_acc: 0.8750\n",
      "Epoch 17/50\n",
      "576/576 [==============================] - 94s 163ms/step - loss: 4.8121e-07 - main_output_loss: 1.0940e-07 - aux_output_1_loss: 1.0940e-07 - aux_output_2_loss: 2.6240e-07 - main_output_acc: 1.0000 - aux_output_1_acc: 1.0000 - aux_output_2_acc: 1.0000 - val_loss: 1.6604 - val_main_output_loss: 1.3226e-07 - val_aux_output_1_loss: 1.0990e-07 - val_aux_output_2_loss: 1.6604 - val_main_output_acc: 1.0000 - val_aux_output_1_acc: 1.0000 - val_aux_output_2_acc: 0.8750\n",
      "Epoch 18/50\n",
      "576/576 [==============================] - 90s 157ms/step - loss: 0.0012 - main_output_loss: 1.0940e-07 - aux_output_1_loss: 1.0940e-07 - aux_output_2_loss: 0.0012 - main_output_acc: 1.0000 - aux_output_1_acc: 1.0000 - aux_output_2_acc: 1.0000 - val_loss: 2.0466 - val_main_output_loss: 1.3547e-07 - val_aux_output_1_loss: 1.0990e-07 - val_aux_output_2_loss: 2.0466 - val_main_output_acc: 1.0000 - val_aux_output_1_acc: 1.0000 - val_aux_output_2_acc: 0.7812\n"
     ]
    },
    {
     "name": "stdout",
     "output_type": "stream",
     "text": [
      "Epoch 19/50\n",
      "576/576 [==============================] - 92s 159ms/step - loss: 5.8227e-04 - main_output_loss: 1.0940e-07 - aux_output_1_loss: 1.0940e-07 - aux_output_2_loss: 5.8205e-04 - main_output_acc: 1.0000 - aux_output_1_acc: 1.0000 - aux_output_2_acc: 1.0000 - val_loss: 1.6179 - val_main_output_loss: 1.2108e-07 - val_aux_output_1_loss: 1.0990e-07 - val_aux_output_2_loss: 1.6179 - val_main_output_acc: 1.0000 - val_aux_output_1_acc: 1.0000 - val_aux_output_2_acc: 0.8750\n",
      "Epoch 20/50\n",
      "576/576 [==============================] - 91s 158ms/step - loss: 3.2910e-07 - main_output_loss: 1.0940e-07 - aux_output_1_loss: 1.0940e-07 - aux_output_2_loss: 1.1029e-07 - main_output_acc: 1.0000 - aux_output_1_acc: 1.0000 - aux_output_2_acc: 1.0000 - val_loss: 1.7176 - val_main_output_loss: 1.2667e-07 - val_aux_output_1_loss: 1.0990e-07 - val_aux_output_2_loss: 1.7176 - val_main_output_acc: 1.0000 - val_aux_output_1_acc: 1.0000 - val_aux_output_2_acc: 0.8594\n",
      "Epoch 21/50\n",
      "576/576 [==============================] - 91s 158ms/step - loss: 3.2821e-07 - main_output_loss: 1.0940e-07 - aux_output_1_loss: 1.0940e-07 - aux_output_2_loss: 1.0940e-07 - main_output_acc: 1.0000 - aux_output_1_acc: 1.0000 - aux_output_2_acc: 1.0000 - val_loss: 1.7176 - val_main_output_loss: 1.2667e-07 - val_aux_output_1_loss: 1.0990e-07 - val_aux_output_2_loss: 1.7176 - val_main_output_acc: 1.0000 - val_aux_output_1_acc: 1.0000 - val_aux_output_2_acc: 0.8594\n",
      "Epoch 22/50\n",
      "576/576 [==============================] - 95s 165ms/step - loss: 3.2821e-07 - main_output_loss: 1.0940e-07 - aux_output_1_loss: 1.0940e-07 - aux_output_2_loss: 1.0940e-07 - main_output_acc: 1.0000 - aux_output_1_acc: 1.0000 - aux_output_2_acc: 1.0000 - val_loss: 1.7176 - val_main_output_loss: 1.2667e-07 - val_aux_output_1_loss: 1.0990e-07 - val_aux_output_2_loss: 1.7176 - val_main_output_acc: 1.0000 - val_aux_output_1_acc: 1.0000 - val_aux_output_2_acc: 0.8594\n",
      "Epoch 23/50\n",
      "576/576 [==============================] - 96s 167ms/step - loss: 3.2821e-07 - main_output_loss: 1.0940e-07 - aux_output_1_loss: 1.0940e-07 - aux_output_2_loss: 1.0940e-07 - main_output_acc: 1.0000 - aux_output_1_acc: 1.0000 - aux_output_2_acc: 1.0000 - val_loss: 1.7176 - val_main_output_loss: 1.2667e-07 - val_aux_output_1_loss: 1.0990e-07 - val_aux_output_2_loss: 1.7176 - val_main_output_acc: 1.0000 - val_aux_output_1_acc: 1.0000 - val_aux_output_2_acc: 0.8594\n",
      "Epoch 24/50\n",
      "576/576 [==============================] - 92s 160ms/step - loss: 3.2821e-07 - main_output_loss: 1.0940e-07 - aux_output_1_loss: 1.0940e-07 - aux_output_2_loss: 1.0940e-07 - main_output_acc: 1.0000 - aux_output_1_acc: 1.0000 - aux_output_2_acc: 1.0000 - val_loss: 1.7176 - val_main_output_loss: 1.2667e-07 - val_aux_output_1_loss: 1.0990e-07 - val_aux_output_2_loss: 1.7176 - val_main_output_acc: 1.0000 - val_aux_output_1_acc: 1.0000 - val_aux_output_2_acc: 0.8594\n",
      "Epoch 25/50\n",
      "576/576 [==============================] - 93s 161ms/step - loss: 3.2821e-07 - main_output_loss: 1.0940e-07 - aux_output_1_loss: 1.0940e-07 - aux_output_2_loss: 1.0940e-07 - main_output_acc: 1.0000 - aux_output_1_acc: 1.0000 - aux_output_2_acc: 1.0000 - val_loss: 1.7176 - val_main_output_loss: 1.2667e-07 - val_aux_output_1_loss: 1.0990e-07 - val_aux_output_2_loss: 1.7176 - val_main_output_acc: 1.0000 - val_aux_output_1_acc: 1.0000 - val_aux_output_2_acc: 0.8594\n",
      "Epoch 26/50\n",
      "576/576 [==============================] - 99s 172ms/step - loss: 3.2821e-07 - main_output_loss: 1.0940e-07 - aux_output_1_loss: 1.0940e-07 - aux_output_2_loss: 1.0940e-07 - main_output_acc: 1.0000 - aux_output_1_acc: 1.0000 - aux_output_2_acc: 1.0000 - val_loss: 1.7176 - val_main_output_loss: 1.2667e-07 - val_aux_output_1_loss: 1.0990e-07 - val_aux_output_2_loss: 1.7176 - val_main_output_acc: 1.0000 - val_aux_output_1_acc: 1.0000 - val_aux_output_2_acc: 0.8594\n",
      "Epoch 27/50\n",
      "576/576 [==============================] - 89s 155ms/step - loss: 3.2821e-07 - main_output_loss: 1.0940e-07 - aux_output_1_loss: 1.0940e-07 - aux_output_2_loss: 1.0940e-07 - main_output_acc: 1.0000 - aux_output_1_acc: 1.0000 - aux_output_2_acc: 1.0000 - val_loss: 1.7176 - val_main_output_loss: 1.2667e-07 - val_aux_output_1_loss: 1.0990e-07 - val_aux_output_2_loss: 1.7176 - val_main_output_acc: 1.0000 - val_aux_output_1_acc: 1.0000 - val_aux_output_2_acc: 0.8594\n",
      "Epoch 28/50\n",
      "576/576 [==============================] - 89s 154ms/step - loss: 3.2821e-07 - main_output_loss: 1.0940e-07 - aux_output_1_loss: 1.0940e-07 - aux_output_2_loss: 1.0940e-07 - main_output_acc: 1.0000 - aux_output_1_acc: 1.0000 - aux_output_2_acc: 1.0000 - val_loss: 1.7176 - val_main_output_loss: 1.2667e-07 - val_aux_output_1_loss: 1.0990e-07 - val_aux_output_2_loss: 1.7176 - val_main_output_acc: 1.0000 - val_aux_output_1_acc: 1.0000 - val_aux_output_2_acc: 0.8594\n",
      "Epoch 29/50\n",
      "576/576 [==============================] - 90s 157ms/step - loss: 3.2821e-07 - main_output_loss: 1.0940e-07 - aux_output_1_loss: 1.0940e-07 - aux_output_2_loss: 1.0940e-07 - main_output_acc: 1.0000 - aux_output_1_acc: 1.0000 - aux_output_2_acc: 1.0000 - val_loss: 1.7176 - val_main_output_loss: 1.2667e-07 - val_aux_output_1_loss: 1.0990e-07 - val_aux_output_2_loss: 1.7176 - val_main_output_acc: 1.0000 - val_aux_output_1_acc: 1.0000 - val_aux_output_2_acc: 0.8594\n",
      "Epoch 30/50\n",
      "576/576 [==============================] - 90s 157ms/step - loss: 3.2821e-07 - main_output_loss: 1.0940e-07 - aux_output_1_loss: 1.0940e-07 - aux_output_2_loss: 1.0940e-07 - main_output_acc: 1.0000 - aux_output_1_acc: 1.0000 - aux_output_2_acc: 1.0000 - val_loss: 1.7176 - val_main_output_loss: 1.2667e-07 - val_aux_output_1_loss: 1.0990e-07 - val_aux_output_2_loss: 1.7176 - val_main_output_acc: 1.0000 - val_aux_output_1_acc: 1.0000 - val_aux_output_2_acc: 0.8594\n",
      "Epoch 31/50\n",
      "576/576 [==============================] - 90s 156ms/step - loss: 3.2821e-07 - main_output_loss: 1.0940e-07 - aux_output_1_loss: 1.0940e-07 - aux_output_2_loss: 1.0940e-07 - main_output_acc: 1.0000 - aux_output_1_acc: 1.0000 - aux_output_2_acc: 1.0000 - val_loss: 1.7176 - val_main_output_loss: 1.2667e-07 - val_aux_output_1_loss: 1.0990e-07 - val_aux_output_2_loss: 1.7176 - val_main_output_acc: 1.0000 - val_aux_output_1_acc: 1.0000 - val_aux_output_2_acc: 0.8594\n",
      "Epoch 32/50\n",
      "576/576 [==============================] - 95s 165ms/step - loss: 3.2821e-07 - main_output_loss: 1.0940e-07 - aux_output_1_loss: 1.0940e-07 - aux_output_2_loss: 1.0940e-07 - main_output_acc: 1.0000 - aux_output_1_acc: 1.0000 - aux_output_2_acc: 1.0000 - val_loss: 1.7176 - val_main_output_loss: 1.2667e-07 - val_aux_output_1_loss: 1.0990e-07 - val_aux_output_2_loss: 1.7176 - val_main_output_acc: 1.0000 - val_aux_output_1_acc: 1.0000 - val_aux_output_2_acc: 0.8594\n",
      "Epoch 33/50\n",
      "576/576 [==============================] - 90s 157ms/step - loss: 3.2821e-07 - main_output_loss: 1.0940e-07 - aux_output_1_loss: 1.0940e-07 - aux_output_2_loss: 1.0940e-07 - main_output_acc: 1.0000 - aux_output_1_acc: 1.0000 - aux_output_2_acc: 1.0000 - val_loss: 1.7176 - val_main_output_loss: 1.2667e-07 - val_aux_output_1_loss: 1.0990e-07 - val_aux_output_2_loss: 1.7176 - val_main_output_acc: 1.0000 - val_aux_output_1_acc: 1.0000 - val_aux_output_2_acc: 0.8594\n",
      "Epoch 34/50\n",
      "576/576 [==============================] - 93s 162ms/step - loss: 3.2821e-07 - main_output_loss: 1.0940e-07 - aux_output_1_loss: 1.0940e-07 - aux_output_2_loss: 1.0940e-07 - main_output_acc: 1.0000 - aux_output_1_acc: 1.0000 - aux_output_2_acc: 1.0000 - val_loss: 1.7176 - val_main_output_loss: 1.2667e-07 - val_aux_output_1_loss: 1.0990e-07 - val_aux_output_2_loss: 1.7176 - val_main_output_acc: 1.0000 - val_aux_output_1_acc: 1.0000 - val_aux_output_2_acc: 0.8594\n",
      "Epoch 35/50\n",
      "576/576 [==============================] - 90s 156ms/step - loss: 3.2821e-07 - main_output_loss: 1.0940e-07 - aux_output_1_loss: 1.0940e-07 - aux_output_2_loss: 1.0940e-07 - main_output_acc: 1.0000 - aux_output_1_acc: 1.0000 - aux_output_2_acc: 1.0000 - val_loss: 1.7176 - val_main_output_loss: 1.2667e-07 - val_aux_output_1_loss: 1.0990e-07 - val_aux_output_2_loss: 1.7176 - val_main_output_acc: 1.0000 - val_aux_output_1_acc: 1.0000 - val_aux_output_2_acc: 0.8594\n",
      "Epoch 36/50\n",
      "576/576 [==============================] - 90s 156ms/step - loss: 3.2821e-07 - main_output_loss: 1.0940e-07 - aux_output_1_loss: 1.0940e-07 - aux_output_2_loss: 1.0940e-07 - main_output_acc: 1.0000 - aux_output_1_acc: 1.0000 - aux_output_2_acc: 1.0000 - val_loss: 1.7176 - val_main_output_loss: 1.2667e-07 - val_aux_output_1_loss: 1.0990e-07 - val_aux_output_2_loss: 1.7176 - val_main_output_acc: 1.0000 - val_aux_output_1_acc: 1.0000 - val_aux_output_2_acc: 0.8594\n",
      "Epoch 37/50\n",
      "576/576 [==============================] - 89s 155ms/step - loss: 3.2821e-07 - main_output_loss: 1.0940e-07 - aux_output_1_loss: 1.0940e-07 - aux_output_2_loss: 1.0940e-07 - main_output_acc: 1.0000 - aux_output_1_acc: 1.0000 - aux_output_2_acc: 1.0000 - val_loss: 1.7176 - val_main_output_loss: 1.2667e-07 - val_aux_output_1_loss: 1.0990e-07 - val_aux_output_2_loss: 1.7176 - val_main_output_acc: 1.0000 - val_aux_output_1_acc: 1.0000 - val_aux_output_2_acc: 0.8594\n",
      "Epoch 38/50\n",
      "576/576 [==============================] - 90s 156ms/step - loss: 3.2821e-07 - main_output_loss: 1.0940e-07 - aux_output_1_loss: 1.0940e-07 - aux_output_2_loss: 1.0940e-07 - main_output_acc: 1.0000 - aux_output_1_acc: 1.0000 - aux_output_2_acc: 1.0000 - val_loss: 1.7176 - val_main_output_loss: 1.2667e-07 - val_aux_output_1_loss: 1.0990e-07 - val_aux_output_2_loss: 1.7176 - val_main_output_acc: 1.0000 - val_aux_output_1_acc: 1.0000 - val_aux_output_2_acc: 0.8594\n",
      "Epoch 39/50\n",
      "576/576 [==============================] - 91s 158ms/step - loss: 3.2821e-07 - main_output_loss: 1.0940e-07 - aux_output_1_loss: 1.0940e-07 - aux_output_2_loss: 1.0940e-07 - main_output_acc: 1.0000 - aux_output_1_acc: 1.0000 - aux_output_2_acc: 1.0000 - val_loss: 1.7176 - val_main_output_loss: 1.2667e-07 - val_aux_output_1_loss: 1.0990e-07 - val_aux_output_2_loss: 1.7176 - val_main_output_acc: 1.0000 - val_aux_output_1_acc: 1.0000 - val_aux_output_2_acc: 0.8594\n",
      "Epoch 40/50\n",
      "576/576 [==============================] - 91s 158ms/step - loss: 3.2821e-07 - main_output_loss: 1.0940e-07 - aux_output_1_loss: 1.0940e-07 - aux_output_2_loss: 1.0940e-07 - main_output_acc: 1.0000 - aux_output_1_acc: 1.0000 - aux_output_2_acc: 1.0000 - val_loss: 1.7176 - val_main_output_loss: 1.2667e-07 - val_aux_output_1_loss: 1.0990e-07 - val_aux_output_2_loss: 1.7176 - val_main_output_acc: 1.0000 - val_aux_output_1_acc: 1.0000 - val_aux_output_2_acc: 0.8594\n",
      "Epoch 41/50\n",
      "576/576 [==============================] - 90s 157ms/step - loss: 3.2821e-07 - main_output_loss: 1.0940e-07 - aux_output_1_loss: 1.0940e-07 - aux_output_2_loss: 1.0940e-07 - main_output_acc: 1.0000 - aux_output_1_acc: 1.0000 - aux_output_2_acc: 1.0000 - val_loss: 1.7176 - val_main_output_loss: 1.2667e-07 - val_aux_output_1_loss: 1.0990e-07 - val_aux_output_2_loss: 1.7176 - val_main_output_acc: 1.0000 - val_aux_output_1_acc: 1.0000 - val_aux_output_2_acc: 0.8594\n",
      "Epoch 42/50\n",
      "576/576 [==============================] - 90s 156ms/step - loss: 3.2821e-07 - main_output_loss: 1.0940e-07 - aux_output_1_loss: 1.0940e-07 - aux_output_2_loss: 1.0940e-07 - main_output_acc: 1.0000 - aux_output_1_acc: 1.0000 - aux_output_2_acc: 1.0000 - val_loss: 1.7176 - val_main_output_loss: 1.2667e-07 - val_aux_output_1_loss: 1.0990e-07 - val_aux_output_2_loss: 1.7176 - val_main_output_acc: 1.0000 - val_aux_output_1_acc: 1.0000 - val_aux_output_2_acc: 0.8594\n",
      "Epoch 43/50\n",
      "576/576 [==============================] - 93s 161ms/step - loss: 3.2821e-07 - main_output_loss: 1.0940e-07 - aux_output_1_loss: 1.0940e-07 - aux_output_2_loss: 1.0940e-07 - main_output_acc: 1.0000 - aux_output_1_acc: 1.0000 - aux_output_2_acc: 1.0000 - val_loss: 1.7176 - val_main_output_loss: 1.2667e-07 - val_aux_output_1_loss: 1.0990e-07 - val_aux_output_2_loss: 1.7176 - val_main_output_acc: 1.0000 - val_aux_output_1_acc: 1.0000 - val_aux_output_2_acc: 0.8594\n",
      "Epoch 44/50\n",
      "576/576 [==============================] - 90s 157ms/step - loss: 3.2821e-07 - main_output_loss: 1.0940e-07 - aux_output_1_loss: 1.0940e-07 - aux_output_2_loss: 1.0940e-07 - main_output_acc: 1.0000 - aux_output_1_acc: 1.0000 - aux_output_2_acc: 1.0000 - val_loss: 1.7176 - val_main_output_loss: 1.2667e-07 - val_aux_output_1_loss: 1.0990e-07 - val_aux_output_2_loss: 1.7176 - val_main_output_acc: 1.0000 - val_aux_output_1_acc: 1.0000 - val_aux_output_2_acc: 0.8594\n",
      "Epoch 45/50\n",
      "576/576 [==============================] - 90s 156ms/step - loss: 3.2821e-07 - main_output_loss: 1.0940e-07 - aux_output_1_loss: 1.0940e-07 - aux_output_2_loss: 1.0940e-07 - main_output_acc: 1.0000 - aux_output_1_acc: 1.0000 - aux_output_2_acc: 1.0000 - val_loss: 1.7176 - val_main_output_loss: 1.2667e-07 - val_aux_output_1_loss: 1.0990e-07 - val_aux_output_2_loss: 1.7176 - val_main_output_acc: 1.0000 - val_aux_output_1_acc: 1.0000 - val_aux_output_2_acc: 0.8594\n",
      "Epoch 46/50\n",
      "576/576 [==============================] - 93s 162ms/step - loss: 3.2821e-07 - main_output_loss: 1.0940e-07 - aux_output_1_loss: 1.0940e-07 - aux_output_2_loss: 1.0940e-07 - main_output_acc: 1.0000 - aux_output_1_acc: 1.0000 - aux_output_2_acc: 1.0000 - val_loss: 1.7176 - val_main_output_loss: 1.2667e-07 - val_aux_output_1_loss: 1.0990e-07 - val_aux_output_2_loss: 1.7176 - val_main_output_acc: 1.0000 - val_aux_output_1_acc: 1.0000 - val_aux_output_2_acc: 0.8594\n",
      "Epoch 47/50\n",
      "576/576 [==============================] - 94s 163ms/step - loss: 3.2821e-07 - main_output_loss: 1.0940e-07 - aux_output_1_loss: 1.0940e-07 - aux_output_2_loss: 1.0940e-07 - main_output_acc: 1.0000 - aux_output_1_acc: 1.0000 - aux_output_2_acc: 1.0000 - val_loss: 1.7176 - val_main_output_loss: 1.2667e-07 - val_aux_output_1_loss: 1.0990e-07 - val_aux_output_2_loss: 1.7176 - val_main_output_acc: 1.0000 - val_aux_output_1_acc: 1.0000 - val_aux_output_2_acc: 0.8594\n",
      "Epoch 48/50\n",
      "576/576 [==============================] - 91s 158ms/step - loss: 3.2821e-07 - main_output_loss: 1.0940e-07 - aux_output_1_loss: 1.0940e-07 - aux_output_2_loss: 1.0940e-07 - main_output_acc: 1.0000 - aux_output_1_acc: 1.0000 - aux_output_2_acc: 1.0000 - val_loss: 1.7176 - val_main_output_loss: 1.2667e-07 - val_aux_output_1_loss: 1.0990e-07 - val_aux_output_2_loss: 1.7176 - val_main_output_acc: 1.0000 - val_aux_output_1_acc: 1.0000 - val_aux_output_2_acc: 0.8594\n",
      "Epoch 49/50\n",
      "576/576 [==============================] - 93s 161ms/step - loss: 3.2821e-07 - main_output_loss: 1.0940e-07 - aux_output_1_loss: 1.0940e-07 - aux_output_2_loss: 1.0940e-07 - main_output_acc: 1.0000 - aux_output_1_acc: 1.0000 - aux_output_2_acc: 1.0000 - val_loss: 1.7176 - val_main_output_loss: 1.2667e-07 - val_aux_output_1_loss: 1.0990e-07 - val_aux_output_2_loss: 1.7176 - val_main_output_acc: 1.0000 - val_aux_output_1_acc: 1.0000 - val_aux_output_2_acc: 0.8594\n",
      "Epoch 50/50\n",
      "576/576 [==============================] - 105s 183ms/step - loss: 3.2821e-07 - main_output_loss: 1.0940e-07 - aux_output_1_loss: 1.0940e-07 - aux_output_2_loss: 1.0940e-07 - main_output_acc: 1.0000 - aux_output_1_acc: 1.0000 - aux_output_2_acc: 1.0000 - val_loss: 1.7176 - val_main_output_loss: 1.2667e-07 - val_aux_output_1_loss: 1.0990e-07 - val_aux_output_2_loss: 1.7176 - val_main_output_acc: 1.0000 - val_aux_output_1_acc: 1.0000 - val_aux_output_2_acc: 0.8594\n",
      "160/160 [==============================] - 4s 24ms/step\n"
     ]
    }
   ],
   "source": [
    "#Collaborative net. Each net is training on its own text file and looking for specific \n",
    "#patterns in their own right. However the idea behind the test is to see if sharing what each\n",
    "#model is learning via the LSTM layers will collectively help the main model.  \n",
    "\n",
    "\n",
    "#First auxiliary model..feeding it \"Dovish or hawkish\" text and associated labels.\n",
    "auxiliary_input_1 = Input(shape=(100,)) \n",
    "e_2 = Embedding(vocab_size_1,200, input_length=100,trainable=True)(auxiliary_input_1)\n",
    "lstm_2 = LSTM(200,input_shape=(100,1))(e_2)\n",
    "#Logistic regression layer\n",
    "auxiliary_output_1 = Dense(1, activation='sigmoid', name='aux_output_1')(lstm_2)  \n",
    "\n",
    "          \n",
    "#Second auxiliary model..feeding it \"Neutral or Dovish\" text and associated labels. \n",
    "auxiliary_input_2 = Input(shape=(100,)) \n",
    "e_3 = Embedding(vocab_size_1,200, input_length=100,trainable=True)(auxiliary_input_2)\n",
    "lstm_3 = LSTM(200,input_shape=(100,1))(e_3)\n",
    "#Logistic regression layer\n",
    "auxiliary_output_2 = Dense(1, activation='sigmoid', name='aux_output_2')(lstm_3) \n",
    "\n",
    "\n",
    "#Main model...feeding it \"Neutral or hawkish\" text and associated labels.\n",
    "main_input = Input(shape=(100, ), name='aux_input')\n",
    "e_1 = Embedding(vocab_size_1, 200,input_length=100,trainable=True)(main_input)\n",
    "lstm_1 = LSTM(200,input_shape=(100,1))(e_1) \n",
    "#Merge LSTM layers\n",
    "x = keras.layers.concatenate([lstm_1,lstm_2,lstm_3])  \n",
    "#logistic regression layer\n",
    "main_output = Dense(1, activation='sigmoid', name='main_output')(x)    \n",
    "         \n",
    "#Define inputs and outputs from main model. \n",
    "model = Model(inputs=[main_input, auxiliary_input_1,auxiliary_input_2], outputs=[main_output, auxiliary_output_1,auxiliary_output_2])\n",
    "\n",
    "\n",
    "#Allowing for equal loss contributions from each model.  \n",
    "model.compile(optimizer='rmsprop', loss='binary_crossentropy',metrics=['acc'],loss_weights=[1.0,1.0,1.0]) \n",
    " \n",
    "\n",
    "history_1 = model.fit([X_train_1, X_train_2, X_train_3], [y_train_1, y_train_2, y_train_3],\n",
    "         batch_size=1, epochs=50,\n",
    "           validation_split=0.10, shuffle=False, verbose=1) \n",
    "\n",
    "\n",
    "model.evaluate([X_test_1, X_test_2, X_test_3], [y_test_1, y_test_2, y_test_3], batch_size=1)\n",
    "\n",
    "\n",
    "collab_mod = model.predict([X_test_1, X_test_2, X_test_3], batch_size=1,verbose=2) "
   ]
  },
  {
   "cell_type": "code",
   "execution_count": 18,
   "metadata": {},
   "outputs": [
    {
     "data": {
      "text/plain": [
       "['loss',\n",
       " 'main_output_loss',\n",
       " 'aux_output_1_loss',\n",
       " 'aux_output_2_loss',\n",
       " 'main_output_acc',\n",
       " 'aux_output_1_acc',\n",
       " 'aux_output_2_acc']"
      ]
     },
     "execution_count": 18,
     "metadata": {},
     "output_type": "execute_result"
    }
   ],
   "source": [
    "#Check metrics for collaborative net\n",
    "model.metrics_names "
   ]
  },
  {
   "cell_type": "code",
   "execution_count": 19,
   "metadata": {},
   "outputs": [
    {
     "name": "stdout",
     "output_type": "stream",
     "text": [
      "[[75  0]\n",
      " [ 0 85]]\n",
      "1.0\n"
     ]
    }
   ],
   "source": [
    "#Precision/recall check & f1 score for collaborative model\n",
    "print_metrics(collab_mod[0],y_test_1)"
   ]
  },
  {
   "cell_type": "code",
   "execution_count": 13,
   "metadata": {},
   "outputs": [
    {
     "data": {
      "image/png": "[encoded data removed]",
      "text/plain": [
       "<matplotlib.figure.Figure at 0x116dc0910>"
      ]
     },
     "metadata": {},
     "output_type": "display_data"
    },
    {
     "data": {
      "image/png": "[encoded data removed]",
      "text/plain": [
       "<matplotlib.figure.Figure at 0x11e2bf810>"
      ]
     },
     "metadata": {},
     "output_type": "display_data"
    }
   ],
   "source": [
    "#Plot collaborative model behaviour over 50 epochs\n",
    "plot_model(history_1)"
   ]
  },
  {
   "cell_type": "code",
   "execution_count": 14,
   "metadata": {
    "scrolled": true
   },
   "outputs": [
    {
     "name": "stdout",
     "output_type": "stream",
     "text": [
      "Train on 576 samples, validate on 64 samples\n",
      "Epoch 1/50\n",
      "576/576 [==============================] - 61s 105ms/step - loss: 0.6859 - acc: 0.5833 - val_loss: 0.5477 - val_acc: 0.6719\n",
      "Epoch 2/50\n",
      "576/576 [==============================] - 60s 104ms/step - loss: 0.2755 - acc: 0.8802 - val_loss: 0.2135 - val_acc: 0.9219\n",
      "Epoch 3/50\n",
      "576/576 [==============================] - 60s 104ms/step - loss: 0.0653 - acc: 0.9878 - val_loss: 0.3042 - val_acc: 0.8750\n",
      "Epoch 4/50\n",
      "576/576 [==============================] - 61s 106ms/step - loss: 0.0677 - acc: 0.9844 - val_loss: 0.3306 - val_acc: 0.8438\n",
      "Epoch 5/50\n",
      "576/576 [==============================] - 60s 104ms/step - loss: 0.0198 - acc: 0.9948 - val_loss: 0.1784 - val_acc: 0.9219\n",
      "Epoch 6/50\n",
      "576/576 [==============================] - 60s 103ms/step - loss: 0.0103 - acc: 1.0000 - val_loss: 0.2873 - val_acc: 0.9062\n",
      "Epoch 7/50\n",
      "576/576 [==============================] - 61s 105ms/step - loss: 0.0245 - acc: 0.9896 - val_loss: 0.2683 - val_acc: 0.8906\n",
      "Epoch 8/50\n",
      "576/576 [==============================] - 61s 106ms/step - loss: 0.0026 - acc: 1.0000 - val_loss: 0.2382 - val_acc: 0.9062\n",
      "Epoch 9/50\n",
      "576/576 [==============================] - 59s 103ms/step - loss: 8.4369e-04 - acc: 1.0000 - val_loss: 0.2205 - val_acc: 0.9219\n",
      "Epoch 10/50\n",
      "576/576 [==============================] - 59s 103ms/step - loss: 3.2339e-04 - acc: 1.0000 - val_loss: 0.2182 - val_acc: 0.9219\n",
      "Epoch 11/50\n",
      "576/576 [==============================] - 58s 101ms/step - loss: 1.9448e-04 - acc: 1.0000 - val_loss: 0.2090 - val_acc: 0.9219\n",
      "Epoch 12/50\n",
      "576/576 [==============================] - 58s 101ms/step - loss: 1.2723e-04 - acc: 1.0000 - val_loss: 0.2022 - val_acc: 0.9219\n",
      "Epoch 13/50\n",
      "576/576 [==============================] - 58s 101ms/step - loss: 8.7375e-05 - acc: 1.0000 - val_loss: 0.1981 - val_acc: 0.9531\n",
      "Epoch 14/50\n",
      "576/576 [==============================] - 59s 103ms/step - loss: 6.0718e-05 - acc: 1.0000 - val_loss: 0.1953 - val_acc: 0.9531 - loss: 6.1124e-0\n",
      "Epoch 15/50\n",
      "576/576 [==============================] - 61s 105ms/step - loss: 4.2951e-05 - acc: 1.0000 - val_loss: 0.1954 - val_acc: 0.9688\n",
      "Epoch 16/50\n",
      "576/576 [==============================] - 60s 104ms/step - loss: 3.1056e-05 - acc: 1.0000 - val_loss: 0.1964 - val_acc: 0.9688\n",
      "Epoch 17/50\n",
      "576/576 [==============================] - 60s 104ms/step - loss: 2.2796e-05 - acc: 1.0000 - val_loss: 0.1984 - val_acc: 0.9688\n",
      "Epoch 18/50\n",
      "576/576 [==============================] - 59s 103ms/step - loss: 1.6830e-05 - acc: 1.0000 - val_loss: 0.2023 - val_acc: 0.9688\n",
      "Epoch 19/50\n",
      "576/576 [==============================] - 59s 103ms/step - loss: 1.2470e-05 - acc: 1.0000 - val_loss: 0.2060 - val_acc: 0.9688\n",
      "Epoch 20/50\n",
      "576/576 [==============================] - 62s 107ms/step - loss: 9.2650e-06 - acc: 1.0000 - val_loss: 0.2099 - val_acc: 0.9688\n",
      "Epoch 21/50\n",
      "576/576 [==============================] - 61s 106ms/step - loss: 6.8915e-06 - acc: 1.0000 - val_loss: 0.2144 - val_acc: 0.9688\n",
      "Epoch 22/50\n",
      "576/576 [==============================] - 60s 104ms/step - loss: 5.1387e-06 - acc: 1.0000 - val_loss: 0.2202 - val_acc: 0.9688\n",
      "Epoch 23/50\n",
      "576/576 [==============================] - 62s 107ms/step - loss: 3.8451e-06 - acc: 1.0000 - val_loss: 0.2242 - val_acc: 0.9688\n",
      "Epoch 24/50\n",
      "576/576 [==============================] - 62s 108ms/step - loss: 2.8685e-06 - acc: 1.0000 - val_loss: 0.2280 - val_acc: 0.9688\n",
      "Epoch 25/50\n",
      "576/576 [==============================] - 60s 104ms/step - loss: 2.1335e-06 - acc: 1.0000 - val_loss: 0.2310 - val_acc: 0.9688 - loss: 2.222 - ETA: 6s - loss: 2.1988e\n",
      "Epoch 26/50\n",
      "576/576 [==============================] - 62s 107ms/step - loss: 1.5885e-06 - acc: 1.0000 - val_loss: 0.2339 - val_acc: 0.9688\n",
      "Epoch 27/50\n",
      "576/576 [==============================] - 59s 102ms/step - loss: 1.1853e-06 - acc: 1.0000 - val_loss: 0.2372 - val_acc: 0.9688\n",
      "Epoch 28/50\n",
      "576/576 [==============================] - 59s 102ms/step - loss: 8.8621e-07 - acc: 1.0000 - val_loss: 0.2392 - val_acc: 0.9844\n",
      "Epoch 29/50\n",
      "576/576 [==============================] - 58s 101ms/step - loss: 6.7534e-07 - acc: 1.0000 - val_loss: 0.2316 - val_acc: 0.9844\n",
      "Epoch 30/50\n",
      "576/576 [==============================] - 59s 102ms/step - loss: 5.0617e-07 - acc: 1.0000 - val_loss: 0.2343 - val_acc: 0.9844\n",
      "Epoch 31/50\n",
      "576/576 [==============================] - 59s 102ms/step - loss: 3.7196e-07 - acc: 1.0000 - val_loss: 0.2409 - val_acc: 0.98442e-07  - ETA: 1s - loss: 3.7475e\n",
      "Epoch 32/50\n",
      "576/576 [==============================] - 65s 113ms/step - loss: 2.8380e-07 - acc: 1.0000 - val_loss: 0.2456 - val_acc: 0.9844\n",
      "Epoch 33/50\n",
      "576/576 [==============================] - 62s 108ms/step - loss: 2.2738e-07 - acc: 1.0000 - val_loss: 0.2443 - val_acc: 0.9844\n",
      "Epoch 34/50\n",
      "576/576 [==============================] - 60s 104ms/step - loss: 1.8588e-07 - acc: 1.0000 - val_loss: 0.2541 - val_acc: 0.9844\n",
      "Epoch 35/50\n",
      "576/576 [==============================] - 60s 104ms/step - loss: 4.0396e-07 - acc: 1.0000 - val_loss: 0.2665 - val_acc: 0.96885e-07 - acc: 1.00\n",
      "Epoch 36/50\n",
      "576/576 [==============================] - 63s 109ms/step - loss: 1.5640e-07 - acc: 1.0000 - val_loss: 0.2527 - val_acc: 0.9688\n",
      "Epoch 37/50\n",
      "576/576 [==============================] - 66s 114ms/step - loss: 1.2953e-07 - acc: 1.0000 - val_loss: 0.2499 - val_acc: 0.9844\n",
      "Epoch 38/50\n",
      "576/576 [==============================] - 60s 104ms/step - loss: 1.2131e-07 - acc: 1.0000 - val_loss: 0.2463 - val_acc: 0.9844\n",
      "Epoch 39/50\n",
      "576/576 [==============================] - 59s 103ms/step - loss: 1.1716e-07 - acc: 1.0000 - val_loss: 0.2442 - val_acc: 0.9844\n",
      "Epoch 40/50\n",
      "576/576 [==============================] - 59s 103ms/step - loss: 1.1380e-07 - acc: 1.0000 - val_loss: 0.2421 - val_acc: 0.9844\n",
      "Epoch 41/50\n",
      "576/576 [==============================] - 62s 108ms/step - loss: 1.1190e-07 - acc: 1.0000 - val_loss: 0.2415 - val_acc: 0.9844\n",
      "Epoch 42/50\n",
      "576/576 [==============================] - 62s 107ms/step - loss: 1.1109e-07 - acc: 1.0000 - val_loss: 0.2514 - val_acc: 0.9844\n",
      "Epoch 43/50\n",
      "576/576 [==============================] - 59s 102ms/step - loss: 1.1033e-07 - acc: 1.0000 - val_loss: 0.2515 - val_acc: 0.9844\n",
      "Epoch 44/50\n",
      "576/576 [==============================] - 64s 110ms/step - loss: 1.0992e-07 - acc: 1.0000 - val_loss: 0.2512 - val_acc: 0.9844\n",
      "Epoch 45/50\n",
      "576/576 [==============================] - 60s 104ms/step - loss: 1.0966e-07 - acc: 1.0000 - val_loss: 0.2507 - val_acc: 0.9844\n",
      "Epoch 46/50\n",
      "576/576 [==============================] - 60s 104ms/step - loss: 1.0951e-07 - acc: 1.0000 - val_loss: 0.2395 - val_acc: 0.9844\n",
      "Epoch 47/50\n",
      "576/576 [==============================] - 59s 103ms/step - loss: 1.0944e-07 - acc: 1.0000 - val_loss: 0.2394 - val_acc: 0.9844\n",
      "Epoch 48/50\n",
      "576/576 [==============================] - 66s 114ms/step - loss: 0.0166 - acc: 0.9931 - val_loss: 0.7595 - val_acc: 0.8438\n",
      "Epoch 49/50\n",
      "576/576 [==============================] - 62s 107ms/step - loss: 0.0744 - acc: 0.9705 - val_loss: 0.1060 - val_acc: 0.9844\n",
      "Epoch 50/50\n",
      "576/576 [==============================] - 68s 117ms/step - loss: 2.8068e-04 - acc: 1.0000 - val_loss: 0.1357 - val_acc: 0.9844\n"
     ]
    }
   ],
   "source": [
    "#Solo model,using sequential model. Model is asked to predict if unseen text is neutral\n",
    "#or hawkish.\n",
    "\n",
    "model_2 = Sequential()\n",
    "\n",
    "\n",
    "#Add embedding layer, allow for layer to retrain\n",
    "e = Embedding(vocab_size_1, 200, input_length=100, trainable=True)\n",
    "model_2.add(e)\n",
    "\n",
    "#LSTM layer\n",
    "model_2.add(LSTM(200, input_shape=(100,1)))\n",
    "#Logistic Regression classifier layer\n",
    "model_2.add(Dense(1, activation='sigmoid'))\n",
    "\n",
    "#Compile model, same loss function and optimizer as main model from the collaborative net above\n",
    "model_2.compile(optimizer='Adam', loss='binary_crossentropy', metrics=['acc'])\n",
    " \n",
    "#Fit the model\n",
    "history_2 = model_2.fit(X_train_1, y_train_1, shuffle=False, batch_size=1, epochs=50, \n",
    "           validation_split=0.10,verbose=1)\n",
    "\n",
    "#Evaluate the model\n",
    "model_2.evaluate(X_test_1,y_test_1, verbose=2,batch_size=1)\n",
    "\n",
    "pred_ldense = model_2.predict(X_test_1, batch_size=1,verbose=2)"
   ]
  },
  {
   "cell_type": "code",
   "execution_count": 15,
   "metadata": {},
   "outputs": [
    {
     "name": "stdout",
     "output_type": "stream",
     "text": [
      "[[71  4]\n",
      " [ 0 85]]\n",
      "0.9770114942528736\n"
     ]
    }
   ],
   "source": [
    "#Confusion matrix and F1 score for solo model.\n",
    "print_metrics(pred_ldense,y_test_1)"
   ]
  },
  {
   "cell_type": "code",
   "execution_count": 16,
   "metadata": {},
   "outputs": [
    {
     "data": {
      "image/png": "[encoded data removed]",
      "text/plain": [
       "<matplotlib.figure.Figure at 0x10680f4d0>"
      ]
     },
     "metadata": {},
     "output_type": "display_data"
    },
    {
     "data": {
      "image/png": "[encoded data removed]",
      "text/plain": [
       "<matplotlib.figure.Figure at 0x122e26410>"
      ]
     },
     "metadata": {},
     "output_type": "display_data"
    }
   ],
   "source": [
    "#Plot model path over 50 epochs.  \n",
    "plot_model_solo(history_2)"
   ]
  }
 ],
 "metadata": {
  "kernelspec": {
   "display_name": "Python 3 (ipykernel)",
   "language": "python",
   "name": "python3"
  },
  "language_info": {
   "codemirror_mode": {
    "name": "ipython",
    "version": 3
   },
   "file_extension": ".py",
   "mimetype": "text/x-python",
   "name": "python",
   "nbconvert_exporter": "python",
   "pygments_lexer": "ipython3",
   "version": "3.11.3"
  }
 },
 "nbformat": 4,
 "nbformat_minor": 2
}
