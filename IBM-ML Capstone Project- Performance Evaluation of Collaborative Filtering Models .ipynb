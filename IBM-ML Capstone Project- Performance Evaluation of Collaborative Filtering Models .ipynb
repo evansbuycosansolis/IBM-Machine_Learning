{
 "cells": [
  {
   "cell_type": "code",
   "execution_count": null,
   "id": "5d320b52",
   "metadata": {},
   "outputs": [],
   "source": [
    "# Import necessary libraries\n",
    "import numpy as np\n",
    "import pandas as pd\n",
    "from sklearn.model_selection import train_test_split\n",
    "from sklearn.metrics import mean_squared_error\n",
    "from sklearn.neighbors import KNeighborsClassifier\n",
    "from sklearn.decomposition import NMF\n",
    "from sklearn.neural_network import MLPRegressor\n",
    "\n",
    "# Load your dataset (assuming you have a user-item interaction matrix)\n",
    "# Replace 'your_dataset.csv' with the actual file name and path\n",
    "data = pd.read_csv('C:\\\\Users\\\\ASUS\\\\Documents\\\\0- UT PGP AIML\\\\IBM-ML\\\\Capstone Project Course-Recommender-System v2\\\\ratings.csv')\n"
   ]
  },
  {
   "cell_type": "code",
   "execution_count": null,
   "id": "2712317f",
   "metadata": {
    "scrolled": false
   },
   "outputs": [],
   "source": [
    "data.head()"
   ]
  },
  {
   "cell_type": "code",
   "execution_count": null,
   "id": "be30b4a4",
   "metadata": {
    "scrolled": true
   },
   "outputs": [],
   "source": [
    "column_names = data.columns\n",
    "print(column_names)"
   ]
  },
  {
   "cell_type": "code",
   "execution_count": null,
   "id": "28a3528f",
   "metadata": {},
   "outputs": [],
   "source": [
    "from sklearn.preprocessing import LabelEncoder\n",
    "\n",
    "# Initialize label encoders\n",
    "user_encoder = LabelEncoder()\n",
    "item_encoder = LabelEncoder()\n",
    "\n",
    "# Encode 'user' and 'item' columns\n",
    "train_data['user'] = user_encoder.fit_transform(train_data['user'])\n",
    "train_data['item'] = item_encoder.fit_transform(train_data['item'])\n",
    "test_data['user'] = user_encoder.transform(test_data['user'])\n",
    "test_data['item'] = item_encoder.transform(test_data['item'])\n",
    "\n",
    "# Now you can fit the KNN classifier\n",
    "k = 5  # Number of neighbors to consider\n",
    "knn = KNeighborsClassifier(n_neighbors=k)\n",
    "knn.fit(train_data[['user', 'item']], train_data['rating'])\n",
    "predictions = knn.predict(test_data[['user', 'item']])\n",
    "knn_rmse = np.sqrt(mean_squared_error(test_data['rating'], predictions))\n",
    "\n",
    "# Collaborative Filtering using NMF\n",
    "n_components = 10  # Number of latent factors\n",
    "nmf = NMF(n_components=n_components)\n",
    "user_matrix = nmf.fit_transform(train_data.pivot(index='user', columns='item', values='rating'))\n",
    "item_matrix = nmf.components_\n",
    "predictions = np.dot(user_matrix, item_matrix)\n",
    "nmf_rmse = np.sqrt(mean_squared_error(test_data['rating'], predictions))\n",
    "\n",
    "# Collaborative Filtering using Neural Network Embedding\n",
    "nn = MLPRegressor(hidden_layer_sizes=(64, 32), max_iter=1000)\n",
    "nn.fit(train_data[['user', 'item']], train_data['rating'])\n",
    "predictions = nn.predict(test_data[['user', 'item']])\n",
    "nn_rmse = np.sqrt(mean_squared_error(test_data['rating'], predictions))\n",
    "\n",
    "# Evaluate and compare the algorithms\n",
    "print(f'KNN RMSE: {knn_rmse}')\n",
    "print(f'NMF RMSE: {nmf_rmse}')\n",
    "print(f'Neural Network RMSE: {nn_rmse}')\n"
   ]
  },
  {
   "cell_type": "code",
   "execution_count": null,
   "id": "0424abe2",
   "metadata": {},
   "outputs": [],
   "source": []
  }
 ],
 "metadata": {
  "kernelspec": {
   "display_name": "Python 3 (ipykernel)",
   "language": "python",
   "name": "python3"
  },
  "language_info": {
   "codemirror_mode": {
    "name": "ipython",
    "version": 3
   },
   "file_extension": ".py",
   "mimetype": "text/x-python",
   "name": "python",
   "nbconvert_exporter": "python",
   "pygments_lexer": "ipython3",
   "version": "3.11.3"
  }
 },
 "nbformat": 4,
 "nbformat_minor": 5
}
